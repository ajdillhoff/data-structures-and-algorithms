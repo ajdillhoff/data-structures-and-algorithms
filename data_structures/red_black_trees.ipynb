{
 "cells": [
  {
   "cell_type": "code",
   "execution_count": null,
   "metadata": {},
   "outputs": [],
   "source": [
    "import networkx as nx\n",
    "import matplotlib.pyplot as plt\n",
    "import numpy as np\n",
    "from RedBlackTree import RedBlackTree, Node\n",
    "\n",
    "def plot_tree(tree):\n",
    "    G, node_colors = tree.create_treeviz()\n",
    "\n",
    "    # Visualize as a tree\n",
    "    pos = nx.nx_agraph.graphviz_layout(G, prog=\"dot\")\n",
    "\n",
    "    # Set font color to white\n",
    "    options = {\n",
    "        \"font_color\": \"white\",\n",
    "        \"font_size\": 18,\n",
    "        \"node_size\": 1000,\n",
    "        \"edgecolors\": \"black\",\n",
    "        \"linewidths\": 3,\n",
    "        \"width\": 3,\n",
    "    }\n",
    "\n",
    "    plt.figure(figsize=(12, 6))\n",
    "    nx.draw_networkx(G, pos, with_labels=True, arrows=True, node_color=node_colors, **options)\n",
    "    plt.show()"
   ]
  },
  {
   "cell_type": "code",
   "execution_count": null,
   "metadata": {},
   "outputs": [],
   "source": [
    "tree = RedBlackTree()\n",
    "\n",
    "rng = np.random.default_rng(0)\n",
    "values = rng.choice(20, size=15, replace=False)\n",
    "\n",
    "for i in values:\n",
    "    tree.insert(Node(i))\n",
    "\n",
    "plot_tree(tree)"
   ]
  },
  {
   "cell_type": "code",
   "execution_count": null,
   "metadata": {},
   "outputs": [],
   "source": [
    "n = tree.search(tree.root, 9)\n",
    "tree.delete(n)\n",
    "\n",
    "plot_tree(tree)"
   ]
  }
 ],
 "metadata": {
  "kernelspec": {
   "display_name": "cse4310",
   "language": "python",
   "name": "python3"
  },
  "language_info": {
   "codemirror_mode": {
    "name": "ipython",
    "version": 3
   },
   "file_extension": ".py",
   "mimetype": "text/x-python",
   "name": "python",
   "nbconvert_exporter": "python",
   "pygments_lexer": "ipython3",
   "version": "3.11.5"
  }
 },
 "nbformat": 4,
 "nbformat_minor": 2
}
