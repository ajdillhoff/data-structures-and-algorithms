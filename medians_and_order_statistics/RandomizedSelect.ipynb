{
 "cells": [
  {
   "cell_type": "code",
   "execution_count": 41,
   "metadata": {},
   "outputs": [],
   "source": [
    "import random\n",
    "\n",
    "\n",
    "def randomized_partition(A, p, r):\n",
    "    i = random.randint(p, r)\n",
    "    A[i], A[r] = A[r], A[i]\n",
    "    x = A[r]\n",
    "    i = p - 1\n",
    "    for j in range(p, r):\n",
    "        if A[j] <= x:\n",
    "            i += 1\n",
    "            A[i], A[j] = A[j], A[i]\n",
    "    A[i+1], A[r] = A[r], A[i+1]\n",
    "    return i+1\n",
    "\n",
    "\n",
    "def randomized_select(A, p, r, i):\n",
    "    if p == r:\n",
    "        return A[p]\n",
    "    q = randomized_partition(A, p, r)\n",
    "\n",
    "    # Print the array with the current partition element highlighted\n",
    "    print(A[:q], end=' ')\n",
    "    print(f'[{A[q]}]', end=' ')\n",
    "    print(A[q+1:])\n",
    "    print()\n",
    "    \n",
    "    k = q - p + 1\n",
    "    if i == k:\n",
    "        return A[q]\n",
    "    elif i < k:\n",
    "        return randomized_select(A, p, q-1, i)\n",
    "    else:\n",
    "        return randomized_select(A, q+1, r, i-k)"
   ]
  },
  {
   "cell_type": "code",
   "execution_count": 55,
   "metadata": {},
   "outputs": [
    {
     "name": "stdout",
     "output_type": "stream",
     "text": [
      "[3, 2] [4] [12, 14, 9, 15, 7, 8, 11, 6, 13, 19, 5, 10]\n",
      "\n",
      "[3, 2, 4, 9, 7, 8, 10, 6, 5] [11] [14, 13, 19, 12, 15]\n",
      "\n",
      "[3, 2, 4] [5] [7, 8, 10, 6, 9, 11, 14, 13, 19, 12, 15]\n",
      "\n",
      "[3, 2, 4, 5] [6] [8, 10, 9, 7, 11, 14, 13, 19, 12, 15]\n",
      "\n",
      "Order statistic 5:  6\n"
     ]
    }
   ],
   "source": [
    "random.seed(21)\n",
    "data = [6, 19, 4, 12, 14, 9, 15, 7, 8, 11, 3, 13, 2, 5, 10]\n",
    "order_statistic = 5\n",
    "print(f\"Order statistic {order_statistic}: \", randomized_select(data, 0, len(data)-1, 5))"
   ]
  }
 ],
 "metadata": {
  "kernelspec": {
   "display_name": "cse6363",
   "language": "python",
   "name": "python3"
  },
  "language_info": {
   "codemirror_mode": {
    "name": "ipython",
    "version": 3
   },
   "file_extension": ".py",
   "mimetype": "text/x-python",
   "name": "python",
   "nbconvert_exporter": "python",
   "pygments_lexer": "ipython3",
   "version": "3.12.2"
  }
 },
 "nbformat": 4,
 "nbformat_minor": 2
}
